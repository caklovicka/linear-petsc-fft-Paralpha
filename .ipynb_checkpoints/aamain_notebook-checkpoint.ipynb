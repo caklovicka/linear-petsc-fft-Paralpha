{
 "cells": [
  {
   "cell_type": "code",
   "execution_count": 1,
   "id": "8d4e0372",
   "metadata": {},
   "outputs": [
    {
     "name": "stderr",
     "output_type": "stream",
     "text": [
      "WARNING: could not import Printf.ini_hex into BFloat16s\n",
      "WARNING: could not import Printf.ini_HEX into BFloat16s\n",
      "WARNING: method definition for attribute at /home/gaya/.julia/packages/CUDA/DfvRa/lib/cudadrv/pool.jl:79 declares type variable T but does not use it.\n",
      "WARNING: method definition for attribute! at /home/gaya/.julia/packages/CUDA/DfvRa/lib/cudadrv/pool.jl:90 declares type variable T but does not use it.\n",
      "WARNING: method definition for #cudacall#42 at /home/gaya/.julia/packages/CUDA/DfvRa/lib/cudadrv/execution.jl:131 declares type variable N but does not use it.\n",
      "WARNING: method definition for #bitonic_sort!#3 at /home/gaya/.julia/packages/CUDA/DfvRa/src/sorting.jl:836 declares type variable T but does not use it.\n",
      "┌ Warning: Replacing docs for `SciMLBase.sol :: Union{Tuple, Tuple{D}, Tuple{S}, Tuple{N}, Tuple{T}} where {T, N, S, D}` in module `SciMLBase`\n",
      "└ @ Base.Docs docs/Docs.jl:240\n",
      "WARNING: method definition for arguments at /home/gaya/.julia/packages/LazyBandedMatrices/8pXDE/src/LazyBandedMatrices.jl:600 declares type variable F but does not use it.\n",
      "WARNING: method definition for sublayout at /home/gaya/.julia/packages/LazyBandedMatrices/8pXDE/src/LazyBandedMatrices.jl:622 declares type variable J but does not use it.\n",
      "WARNING: method definition for sublayout at /home/gaya/.julia/packages/LazyBandedMatrices/8pXDE/src/LazyBandedMatrices.jl:622 declares type variable J but does not use it.\n",
      "WARNING: method definition for * at /home/gaya/.julia/packages/DiffEqOperators/NWEwW/src/derivative_operators/multi_dim_bc_operators.jl:170 declares type variable B but does not use it.\n",
      "WARNING: method definition for * at /home/gaya/.julia/packages/DiffEqOperators/NWEwW/src/derivative_operators/multi_dim_bc_operators.jl:187 declares type variable B but does not use it.\n",
      "WARNING: method definition for CompleteCenteredDifference at /home/gaya/.julia/packages/DiffEqOperators/NWEwW/src/derivative_operators/derivative_operator.jl:171 declares type variable N but does not use it.\n",
      "WARNING: method definition for CompleteCenteredDifference at /home/gaya/.julia/packages/DiffEqOperators/NWEwW/src/derivative_operators/derivative_operator.jl:209 declares type variable N but does not use it.\n",
      "WARNING: method definition for CompleteHalfCenteredDifference at /home/gaya/.julia/packages/DiffEqOperators/NWEwW/src/derivative_operators/derivative_operator.jl:252 declares type variable N but does not use it.\n",
      "WARNING: method definition for CompleteHalfCenteredDifference at /home/gaya/.julia/packages/DiffEqOperators/NWEwW/src/derivative_operators/derivative_operator.jl:296 declares type variable N but does not use it.\n",
      "WARNING: method definition for CompleteUpwindDifference at /home/gaya/.julia/packages/DiffEqOperators/NWEwW/src/derivative_operators/derivative_operator.jl:472 declares type variable N but does not use it.\n",
      "WARNING: method definition for CompleteUpwindDifference at /home/gaya/.julia/packages/DiffEqOperators/NWEwW/src/derivative_operators/derivative_operator.jl:512 declares type variable N but does not use it.\n",
      "WARNING: method definition for BandedMatrix at /home/gaya/.julia/packages/DiffEqOperators/NWEwW/src/derivative_operators/concretization.jl:435 declares type variable K but does not use it.\n",
      "WARNING: method definition for BandedMatrix at /home/gaya/.julia/packages/DiffEqOperators/NWEwW/src/derivative_operators/concretization.jl:435 declares type variable N but does not use it.\n",
      "WARNING: method definition for BandedMatrix at /home/gaya/.julia/packages/DiffEqOperators/NWEwW/src/derivative_operators/concretization.jl:435 declares type variable D but does not use it.\n",
      "WARNING: method definition for BandedMatrix at /home/gaya/.julia/packages/DiffEqOperators/NWEwW/src/derivative_operators/concretization.jl:435 declares type variable B but does not use it.\n",
      "WARNING: method definition for BandedMatrix at /home/gaya/.julia/packages/DiffEqOperators/NWEwW/src/derivative_operators/concretization.jl:435 declares type variable T but does not use it.\n",
      "WARNING: method definition for TwiceDifferentiable at /home/gaya/.julia/packages/NLSolversBase/cfJrN/src/objective_types/incomplete.jl:96 declares type variable TH but does not use it.\n",
      "WARNING: method definition for show at /home/gaya/.julia/packages/Optim/Zq1jM/src/univariate/printing.jl:7 declares type variable T but does not use it.\n",
      "[ Info: Kinetic will run with 1 worker and 1 thread\n"
     ]
    }
   ],
   "source": [
    "# the following lines disable the numpy multithreading [optional]\n",
    "import os\n",
    "os.environ[\"OMP_NUM_THREADS\"] = \"1\"\n",
    "os.environ[\"OPENBLAS_NUM_THREADS\"] = \"1\"\n",
    "os.environ[\"MKL_NUM_THREADS\"] = \"1\"\n",
    "os.environ[\"VECLIB_MAXIMUM_THREADS\"] = \"1\"\n",
    "os.environ[\"NUMEXPR_NUM_THREADS\"] = \"1\"\n",
    "\n",
    "from julia.api import Julia\n",
    "jl = Julia(compiled_modules=False)\n",
    "from julia import KitBase as kt\n",
    "\n",
    "import matplotlib.pyplot as plt\n",
    "\n",
    "from examples.nonlinear.boltzmann_3d_pbc_upwind1 import Boltzmann\n",
    "prob = Boltzmann()"
   ]
  },
  {
   "cell_type": "code",
   "execution_count": 2,
   "id": "2378c40a",
   "metadata": {},
   "outputs": [],
   "source": [
    "# for Jupyter\n",
    "prob.document = 'None'\n",
    "prob.betas = [0]"
   ]
  },
  {
   "cell_type": "code",
   "execution_count": null,
   "id": "8c1e4e51",
   "metadata": {},
   "outputs": [],
   "source": [
    "# choosing a number of points\n",
    "prob.spatial_points = [100, 50, 30, 30]\n",
    "prob.time_points = 1\n",
    "\n",
    "# choosing a time domain\n",
    "prob.T_start = 0\n",
    "\n",
    "# choosing the number of intervals handled in parallel\n",
    "prob.time_intervals = 1\n",
    "prob.rolling = 10\n",
    "\n",
    "prob.T_end = 5e-4 * prob.time_intervals * prob.rolling\n",
    "\n",
    "# choosing a parallelization strategy\n",
    "prob.proc_col = 1\n",
    "prob.proc_row = prob.time_intervals\n",
    "\n",
    "# choosing a solver\n",
    "prob.solver = 'gmres'\n",
    "\n",
    "# setting maximum number of iterations\n",
    "prob.maxiter = 5\n",
    "prob.smaxiter = 50\n",
    "\n",
    "# choosing a setting for the alpha sequence\n",
    "prob.alphas = [1e-6]\n",
    "\n",
    "# setting tolerances\n",
    "prob.tol = 1e-4\n",
    "prob.stol = 1e-6\n",
    "\n",
    "prob.setup()\n",
    "prob.solve()\n",
    "prob.summary(details=True)"
   ]
  },
  {
   "cell_type": "code",
   "execution_count": null,
   "id": "911efd64",
   "metadata": {},
   "outputs": [],
   "source": [
    "import numpy as np\n",
    "prob.__fill_u_last__(fill_old=False)\n",
    "\n",
    "w0 = np.zeros((prob.spatial_points[0], 5))\n",
    "w = np.zeros_like(w0)\n",
    "\n",
    "f0 = prob.u_initial(0)\n",
    "f = prob.u_last_loc.reshape(prob.spatial_points)\n",
    "\n",
    "for i in range(prob.spatial_points[0]):\n",
    "    w0[i, :] = kt.moments_conserve(f0[i, :, :, :].real, prob.vs.u, prob.vs.v, prob.vs.w, prob.vs.weights)\n",
    "    w[i, :] = kt.moments_conserve(f[i, :, :, :].real, prob.vs.u, prob.vs.v, prob.vs.w, prob.vs.weights)\n",
    "    \n",
    "plt.plot(w[:, 1])\n",
    "plt.plot(w0[:, 1], '--')\n",
    "plt.legend(['w', 'w0'])\n",
    "plt.savefig('w_and_w0', dpi=500)\n",
    "plt.show()\n",
    "    "
   ]
  },
  {
   "cell_type": "code",
   "execution_count": null,
   "id": "e2d1e4eb",
   "metadata": {},
   "outputs": [],
   "source": []
  }
 ],
 "metadata": {
  "kernelspec": {
   "display_name": "Python 3 (ipykernel)",
   "language": "python",
   "name": "python3"
  },
  "language_info": {
   "codemirror_mode": {
    "name": "ipython",
    "version": 3
   },
   "file_extension": ".py",
   "mimetype": "text/x-python",
   "name": "python",
   "nbconvert_exporter": "python",
   "pygments_lexer": "ipython3",
   "version": "3.8.13"
  }
 },
 "nbformat": 4,
 "nbformat_minor": 5
}
